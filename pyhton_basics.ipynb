{
 "cells": [
  {
   "cell_type": "markdown",
   "metadata": {},
   "source": [
    "# Introduction to Python\n",
    "\n",
    "This will be our introduction into Python for this course. \n",
    "\n",
    "## Basic Scripts, Arithmetic and Comments\n",
    "\n",
    "### Basic Scripts\n",
    "We can write Python code right into the console, something like `2 + 2` and the interpreter will evaluate the code, and we should get an answer of `4`. And we can do this for all sorts of operations such as: \n",
    "\n",
    "1. Boolean values: `2 == 2` --> `TRUE`\n",
    "2. Arithmetic: `2 + 2` --> `4`\n",
    "3. Multiplication: `2 * 2` --> `4`\n",
    "\n",
    "We can do this for all sorts of various applications. But you get the idea with the examples above. \n",
    "\n",
    "### Basic Arithmetic\n",
    "\n"
   ]
  },
  {
   "cell_type": "code",
   "execution_count": 2,
   "metadata": {},
   "outputs": [
    {
     "data": {
      "text/plain": [
       "4"
      ]
     },
     "execution_count": 2,
     "metadata": {},
     "output_type": "execute_result"
    }
   ],
   "source": [
    "# Here is how basic arithmetic will work.\n",
    "\n",
    "2 + 2"
   ]
  },
  {
   "cell_type": "code",
   "execution_count": 3,
   "metadata": {},
   "outputs": [
    {
     "data": {
      "text/plain": [
       "4"
      ]
     },
     "execution_count": 3,
     "metadata": {},
     "output_type": "execute_result"
    }
   ],
   "source": [
    "# We can multiply this way as well.\n",
    "\n",
    "2 * 2"
   ]
  },
  {
   "cell_type": "markdown",
   "metadata": {},
   "source": [
    "### Comments\n",
    "\n",
    "Comments are made just how I have been doing above, by ensuring that we add a `#` before we type in some information. Anything which is contained within a comment is ignored by the Python interpeter when the code is ran. \n",
    "\n",
    "We use comments so that we can help ourselves remember what we were trying to do with a specific piece of code, or to help other software developers understand our code. "
   ]
  },
  {
   "cell_type": "code",
   "execution_count": 4,
   "metadata": {},
   "outputs": [
    {
     "name": "stdout",
     "output_type": "stream",
     "text": [
      "True\n"
     ]
    }
   ],
   "source": [
    "# Here is a comment. You will see this text is ignored, but the code below will not be. \n",
    "\n",
    "my_bool = True\n",
    "\n",
    "print(my_bool)"
   ]
  },
  {
   "cell_type": "code",
   "execution_count": 5,
   "metadata": {},
   "outputs": [
    {
     "name": "stdout",
     "output_type": "stream",
     "text": [
      "2\n"
     ]
    }
   ],
   "source": [
    "\"\"\"This \n",
    "is\n",
    "a \n",
    "multi-line comment\"\"\"\n",
    "\n",
    "x = 2\n",
    "\n",
    "print(x)"
   ]
  },
  {
   "cell_type": "markdown",
   "metadata": {},
   "source": [
    "Multi-line comments are great for when you want to add a header to the top of your code, or if you have a lot that you need to explain about the code for yourself or someone else to review. "
   ]
  },
  {
   "cell_type": "markdown",
   "metadata": {},
   "source": []
  }
 ],
 "metadata": {
  "kernelspec": {
   "display_name": "Python 3",
   "language": "python",
   "name": "python3"
  },
  "language_info": {
   "codemirror_mode": {
    "name": "ipython",
    "version": 3
   },
   "file_extension": ".py",
   "mimetype": "text/x-python",
   "name": "python",
   "nbconvert_exporter": "python",
   "pygments_lexer": "ipython3",
   "version": "3.9.6"
  }
 },
 "nbformat": 4,
 "nbformat_minor": 2
}
